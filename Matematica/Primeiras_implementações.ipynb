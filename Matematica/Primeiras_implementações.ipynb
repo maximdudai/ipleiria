{
  "cells": [
    {
      "cell_type": "markdown",
      "metadata": {
        "id": "Bxbq2Ny7N9B4"
      },
      "source": [
        "Primeiras implementações"
      ]
    },
    {
      "cell_type": "markdown",
      "metadata": {
        "id": "MB73g5bZOAeu"
      },
      "source": [
        "Dado o valor do diâmetro, calcular o perímetro e a área da\n",
        "circunferência."
      ]
    },
    {
      "cell_type": "code",
      "execution_count": 8,
      "metadata": {
        "colab": {
          "base_uri": "https://localhost:8080/"
        },
        "id": "XF9BoNWHN8eK",
        "outputId": "7aae2c6a-8790-4e79-ad69-5145ddac3b08"
      },
      "outputs": [
        {
          "name": "stdout",
          "output_type": "stream",
          "text": [
            "Indique o diâmetro d -> 2\n",
            "****************************************\n",
            "Área da Circunferência =  3.142\n",
            "Perímetro da Circunferência =  6.283\n"
          ]
        }
      ],
      "source": [
        "# Entrada de dados\n",
        "d = float(input('Indique o diâmetro d -> '))\n",
        "# Cálculos\n",
        "r = d/2\n",
        "import math\n",
        "Area = math.pi * r**2\n",
        "Perimetro = 2 * math.pi * r**2\n",
        "# Apresentação de resultados\n",
        "print('*' * 40)\n",
        "print('Área da Circunferência = ',round(Area,3))\n",
        "print('Perímetro da Circunferência = ',round(Perimetro,3))"
      ]
    },
    {
      "cell_type": "markdown",
      "metadata": {
        "id": "8oOrcsWwPxGm"
      },
      "source": [
        "Dado o valor dos lados de um rectângulo, calcular a área,\n",
        "o perímetro e o comprimento das diagonais."
      ]
    },
    {
      "cell_type": "code",
      "execution_count": 1,
      "metadata": {
        "colab": {
          "base_uri": "https://localhost:8080/"
        },
        "id": "WxxwUo8UPzqB",
        "outputId": "df23d94d-96b3-4349-87be-c1fad522860b"
      },
      "outputs": [
        {
          "name": "stdout",
          "output_type": "stream",
          "text": [
            "****************************************\n",
            "Área do rectângulo =  12.0\n",
            "Perímetro do rectângulo =  14.0\n",
            "Diagonal do rectângulo =  5.0\n"
          ]
        }
      ],
      "source": [
        "# Entrada de dados\n",
        "a = float(input('Indique um dos lados do rectângulo -> '))\n",
        "b = float(input('Indique o outro lado do rectângulo -> '))\n",
        "# Cálculos\n",
        "Area = a * b\n",
        "Perimetro = 2*a + 2*b\n",
        "import math\n",
        "Diag = math.sqrt(a**2+b**2)\n",
        "# Apresentação de resultados\n",
        "print('*' * 40)\n",
        "print('Área do rectângulo = ',round(Area,3))\n",
        "print('Perímetro do rectângulo = ',round(Perimetro,3))\n",
        "print('Diagonal do rectângulo = ',round(Diag,3))"
      ]
    },
    {
      "cell_type": "markdown",
      "metadata": {
        "id": "9nN6jwIKQqne"
      },
      "source": [
        "Dado o valor do cateto adjacente e o valor da hipotenusa,\n",
        "calcular o perímetro e as relações trigonométricas do\n",
        "ângulo oposto."
      ]
    },
    {
      "cell_type": "code",
      "execution_count": 14,
      "metadata": {
        "colab": {
          "base_uri": "https://localhost:8080/"
        },
        "id": "E0_CLH9IQrI3",
        "outputId": "b588deec-a07e-4664-cce2-d7422816bc3c"
      },
      "outputs": [
        {
          "name": "stdout",
          "output_type": "stream",
          "text": [
            "Indique o valor do cat. adj. -> 1\n",
            "Indique o valor da hipotenusa -> 2\n",
            "****************************************\n",
            "Perímetro do triângulo =  4.73205\n",
            "Seno =  0.86603\n",
            "Cosseno =  0.5\n",
            "Tangente =  1.73205\n"
          ]
        }
      ],
      "source": [
        "# Entrada de dados\n",
        "CAdj = float(input('Indique o valor do cat. adj. -> '))\n",
        "Hip = float(input('Indique o valor da hipotenusa -> '))\n",
        "# Cálculos\n",
        "#import math\n",
        "COp = math.sqrt(Hip**2-CAdj**2)\n",
        "Perimetro = Hip + CAdj + COp\n",
        "Sin = COp/Hip\n",
        "Cos = CAdj/Hip\n",
        "Tan = COp/CAdj\n",
        "# Apresentação de resultados\n",
        "print('*' * 40)\n",
        "print('Perímetro do triângulo = ',round(Perimetro,5))\n",
        "print('Seno = ',round(Sin,5))\n",
        "print('Cosseno = ',round(Cos,5))\n",
        "print('Tangente = ',round(Tan,5))"
      ]
    },
    {
      "cell_type": "markdown",
      "metadata": {
        "id": "ueO-MSmLR5rs"
      },
      "source": [
        "Dadas as coordenadas de dois pontos do plano, calcular a\n",
        "distância entre eles."
      ]
    },
    {
      "cell_type": "code",
      "execution_count": 22,
      "metadata": {
        "colab": {
          "base_uri": "https://localhost:8080/"
        },
        "id": "8DraNgvxR_LD",
        "outputId": "0baef7d7-2449-4234-dc07-0a6d4f6f40e8"
      },
      "outputs": [
        {
          "name": "stdout",
          "output_type": "stream",
          "text": [
            "Indique a abcissa do primeiro ponto -> 00\n",
            "Indique a ordenada do primeiro ponto -> 0\n",
            "Indique a abcissa do segundo ponto -> 1\n",
            "Indique a ordenada do segundo ponto -> 1\n",
            "**************************************************\n",
            "1.4142135623730951\n",
            "Distância entre ( 0.0 , 0.0 ) e ( 1.0 , 1.0 ) =  1.41421\n"
          ]
        }
      ],
      "source": [
        "# Entrada de dados\n",
        "x1 = float(input('Indique a abcissa do primeiro ponto -> '))\n",
        "x2 = float(input('Indique a ordenada do primeiro ponto -> '))\n",
        "y1 = float(input('Indique a abcissa do segundo ponto -> '))\n",
        "y2 = float(input('Indique a ordenada do segundo ponto -> '))\n",
        "# Cálculos\n",
        "import math\n",
        "dist = (math.sqrt((x1-y1)**2+(x2-y2)**2))\n",
        "# Apresentação de resultados\n",
        "print('*' * 60)\n",
        "print('Distância entre (',x1,',',x2,') e (',y1,',',y2,') = ',round(dist,5))"
      ]
    },
    {
      "cell_type": "markdown",
      "metadata": {
        "id": "a_pd75nZVxLo"
      },
      "source": [
        "Dado o nome, a idade, valor da massa (em kg) e da altura\n",
        "(em cm), calcular o valor do índice de massa corporal."
      ]
    },
    {
      "cell_type": "code",
      "execution_count": 27,
      "metadata": {
        "colab": {
          "base_uri": "https://localhost:8080/"
        },
        "id": "3AS7DofKVxzh",
        "outputId": "3e9b07b8-0982-4de9-a8ba-b06a667f2da5"
      },
      "outputs": [
        {
          "name": "stdout",
          "output_type": "stream",
          "text": [
            "Indique o seu nome -> Nuno\n",
            "Indique o seu peso em kg -> 70\n",
            "Indique a sua altura em cm -> 181\n",
            "*********************************\n",
            "IMC = 21.37\n"
          ]
        }
      ],
      "source": [
        "# Entrada de dados\n",
        "Nome = str(input('Indique o seu nome -> '))\n",
        "Peso = float(input('Indique o seu peso em kg -> '))\n",
        "Alt = float(input('Indique a sua altura em cm -> '))\n",
        "# Cálculos\n",
        "IMC = Peso / (Alt/100)**2\n",
        "# Apresentação de resultados\n",
        "print('*' * 33)\n",
        "print('IMC =',round(IMC,2))"
      ]
    }
  ],
  "metadata": {
    "colab": {
      "provenance": []
    },
    "kernelspec": {
      "display_name": "Python 3",
      "name": "python3"
    },
    "language_info": {
      "codemirror_mode": {
        "name": "ipython",
        "version": 3
      },
      "file_extension": ".py",
      "mimetype": "text/x-python",
      "name": "python",
      "nbconvert_exporter": "python",
      "pygments_lexer": "ipython3",
      "version": "3.12.1"
    }
  },
  "nbformat": 4,
  "nbformat_minor": 0
}
